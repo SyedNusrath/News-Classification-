{
 "cells": [
  {
   "cell_type": "code",
   "execution_count": 79,
   "metadata": {
    "collapsed": true
   },
   "outputs": [],
   "source": [
    "import re\n",
    "import pandas as pd\n",
    "from sklearn.feature_extraction.text import TfidfVectorizer\n",
    "from textblob import Word\n",
    "import numpy as np\n",
    "from sklearn.model_selection import train_test_split\n",
    "from sklearn.ensemble import RandomForestClassifier\n",
    "from nltk.stem.wordnet import WordNetLemmatizer\n",
    "from sklearn.metrics import accuracy_score, cohen_kappa_score, confusion_matrix\n",
    "from sklearn.externals import joblib\n",
    "\n",
    "\n",
    "\n",
    "import nltk\n",
    "from nltk import word_tokenize\n",
    "from nltk.corpus import stopwords\n",
    "from nltk.stem.wordnet import WordNetLemmatizer\n",
    "from nltk.stem.porter import PorterStemmer"
   ]
  },
  {
   "cell_type": "markdown",
   "metadata": {},
   "source": [
    "#### "
   ]
  },
  {
   "cell_type": "code",
   "execution_count": 53,
   "metadata": {
    "collapsed": true
   },
   "outputs": [],
   "source": [
    "path = r'dataset.csv'"
   ]
  },
  {
   "cell_type": "code",
   "execution_count": 54,
   "metadata": {
    "collapsed": true
   },
   "outputs": [],
   "source": [
    "# reading file to pandas dataframe\n",
    "df = pd.read_csv(path, encoding=\"ISO-8859-1\")"
   ]
  },
  {
   "cell_type": "code",
   "execution_count": 55,
   "metadata": {
    "collapsed": true
   },
   "outputs": [],
   "source": [
    "x = df['news'].tolist()\n",
    "y = df['type'].tolist()"
   ]
  },
  {
   "cell_type": "code",
   "execution_count": 105,
   "metadata": {
    "collapsed": true
   },
   "outputs": [],
   "source": [
    "def data_cleaning(text):\n",
    "    \n",
    "    # split into sentences\n",
    "    words  = word_tokenize(text)\n",
    "    words = [word for word in words if word.isalpha()]\n",
    "    \n",
    "    # remove stop words in sentence\n",
    "    stop_words = set(stopwords.words('english'))\n",
    "    words = [w for w in words if not w in stop_words]\n",
    "    #print(words[:100])\n",
    "    \n",
    "\t#please it comment if you don't want to use Lemmatizer\n",
    "    # lemmatizing of words \n",
    "    lmtzr = WordNetLemmatizer()\n",
    "    words = [lmtzr.lemmatize(word) for word in words]\n",
    "    # print(lemmt[:100])\n",
    "\n",
    "    # stemming of words\n",
    "    porter = PorterStemmer()\n",
    "    words = [porter.stem(word) for word in words]\n",
    "    return (\" \".join(str(x) for x in words))"
   ]
  },
  {
   "cell_type": "code",
   "execution_count": 106,
   "metadata": {
    "collapsed": true
   },
   "outputs": [],
   "source": [
    "for index, string in enumerate(x):\n",
    "    x[index] = data_cleaning(string)"
   ]
  },
  {
   "cell_type": "code",
   "execution_count": 107,
   "metadata": {},
   "outputs": [
    {
     "data": {
      "text/plain": [
       "'china role yuko china lent russia help russian govern renationali key yuganskneftega unit oil group yuko reveal kremlin said tuesday russian state bank veb lent rosneft help buy yugansk turn came chine bank revel came russian govern said rosneft sign oil suppli deal china deal see rosneft receiv credit china cnpc accord russian newspap vedomosti credit would use pay loan rosneft receiv financ purcha yugansk report said cnpc offer yugansk return provid financ compani opt oil suppli deal instead analyst said one factor might influenc chine deci possibl litig yuko yugansk former owner cnpc becom sharehold rosneft veb declin comment two compani rosneft cnpc agr deliveri said russian oil offici sergei oganesyan noth unusu five six year announc help explain rosneft indebt rel unknown firm abl financ surpri purcha yugansk yugansk sold auction last year help yuko pay part bill unpaid tax fine embattl russian oil giant previou file bankruptci protect US court attempt prevent forc sale main product arm yugansk sold littl known shell compani turn bought rosneft yuko claim downfal punish polit ambit founder mikhail khodorkovski onc countri richest man Mr khodorkovski trial fraud tax eva deal rosneft cnpc seen part china desir secur oil suppli feed boom economi china thirst product crude oil copper steel help push global commod price record level clearli chine tri get leverag russia said dmitri lukashov analyst brokerag aton understand properti right russia import right interest guarant suppli If price oil fix deal unlik could profit chine Mr lukashov continu rosneft desper need cash good deal'"
      ]
     },
     "execution_count": 107,
     "metadata": {},
     "output_type": "execute_result"
    }
   ],
   "source": [
    "x[0]"
   ]
  },
  {
   "cell_type": "code",
   "execution_count": null,
   "metadata": {
    "collapsed": true
   },
   "outputs": [],
   "source": []
  },
  {
   "cell_type": "code",
   "execution_count": 108,
   "metadata": {
    "collapsed": true
   },
   "outputs": [],
   "source": [
    "tf_vec = TfidfVectorizer(stop_words='english', min_df=2)\n",
    "X = tf_vec.fit_transform(x)\n",
    "Y = np.array(y)"
   ]
  },
  {
   "cell_type": "code",
   "execution_count": 109,
   "metadata": {},
   "outputs": [
    {
     "data": {
      "text/plain": [
       "('No of features', 11035)"
      ]
     },
     "execution_count": 109,
     "metadata": {},
     "output_type": "execute_result"
    }
   ],
   "source": [
    "\"No of features\",X.shape[1]"
   ]
  },
  {
   "cell_type": "code",
   "execution_count": 110,
   "metadata": {
    "collapsed": true
   },
   "outputs": [],
   "source": [
    "X_train, X_test, Y_train, Y_test = train_test_split(X,Y,test_size=0.20, random_state=42)"
   ]
  },
  {
   "cell_type": "code",
   "execution_count": 111,
   "metadata": {
    "collapsed": true
   },
   "outputs": [],
   "source": [
    "model = RandomForestClassifier(n_estimators=300, max_depth=150,n_jobs=1)"
   ]
  },
  {
   "cell_type": "code",
   "execution_count": 112,
   "metadata": {},
   "outputs": [
    {
     "data": {
      "text/plain": [
       "RandomForestClassifier(bootstrap=True, class_weight=None, criterion='gini',\n",
       "            max_depth=150, max_features='auto', max_leaf_nodes=None,\n",
       "            min_impurity_decrease=0.0, min_impurity_split=None,\n",
       "            min_samples_leaf=1, min_samples_split=2,\n",
       "            min_weight_fraction_leaf=0.0, n_estimators=300, n_jobs=1,\n",
       "            oob_score=False, random_state=None, verbose=0,\n",
       "            warm_start=False)"
      ]
     },
     "execution_count": 112,
     "metadata": {},
     "output_type": "execute_result"
    }
   ],
   "source": [
    "model.fit(X_train, Y_train)"
   ]
  },
  {
   "cell_type": "code",
   "execution_count": 113,
   "metadata": {
    "collapsed": true
   },
   "outputs": [],
   "source": [
    "y_pred = model.predict(X_test)"
   ]
  },
  {
   "cell_type": "code",
   "execution_count": 114,
   "metadata": {
    "collapsed": true
   },
   "outputs": [],
   "source": [
    "con_mat = confusion_matrix(Y_test,y_pred)"
   ]
  },
  {
   "cell_type": "code",
   "execution_count": 115,
   "metadata": {
    "collapsed": true
   },
   "outputs": [],
   "source": [
    "kappa_coef = cohen_kappa_score(Y_test,y_pred)"
   ]
  },
  {
   "cell_type": "code",
   "execution_count": 116,
   "metadata": {
    "collapsed": true
   },
   "outputs": [],
   "source": [
    "accu = accuracy_score(Y_test,y_pred)"
   ]
  },
  {
   "cell_type": "code",
   "execution_count": 117,
   "metadata": {},
   "outputs": [
    {
     "name": "stdout",
     "output_type": "stream",
     "text": [
      "Confusion Matrix:\n",
      " [[106   1   5   1   2]\n",
      " [  2  67   1   1   1]\n",
      " [  3   0  73   0   0]\n",
      " [  0   0   0 102   0]\n",
      " [  3   1   1   2  73]]\n",
      "\n",
      "Kappa:  0.9319636884854277\n",
      "\n",
      "Accuracy:  0.946067415730337\n"
     ]
    }
   ],
   "source": [
    "print(\"Confusion Matrix:\\n\", con_mat)\n",
    "print( \"\\nKappa: \",kappa_coef)\n",
    "print(\"\\nAccuracy: \",accu)"
   ]
  },
  {
   "cell_type": "code",
   "execution_count": 118,
   "metadata": {},
   "outputs": [
    {
     "data": {
      "text/plain": [
       "['tf_vectorizer.pkl']"
      ]
     },
     "execution_count": 118,
     "metadata": {},
     "output_type": "execute_result"
    }
   ],
   "source": [
    "# Saving model to local for future use \n",
    "joblib.dump(model, 'news_classification_system.pkl')\n",
    "\n",
    "joblib.dump(tf_vec, 'tf_vectorizer.pkl')"
   ]
  },
  {
   "cell_type": "markdown",
   "metadata": {},
   "source": [
    "#### Testing on a String of politics"
   ]
  },
  {
   "cell_type": "code",
   "execution_count": 119,
   "metadata": {
    "collapsed": true
   },
   "outputs": [],
   "source": [
    "news_content = \"\"\"\n",
    "Hewitt decries 'career sexism'\n",
    "\n",
    "Plans to extend paid maternity leave beyond six months should be prominent in Labour's election manifesto, the Trade and Industry Secretary has said.\n",
    "\n",
    "Patricia Hewitt said the cost of the proposals was being evaluated, but it was an \"increasingly high priority\" and a \"shared goal across government\". Ms Hewitt was speaking at a gender and productivity seminar organised by the Equal Opportunities Commission (EOC). Mothers can currently take up to six months' paid leave - and six unpaid. Ms Hewitt told the seminar: \"Clearly, one of the things we need to do in the future is to extend the period of payment for maternity leave beyond the first six months into the second six months. \"We are looking at how quickly we can do that, because obviously there are cost implications because the taxpayer reimburses the employers for the cost of that.\"\n",
    "\n",
    "Ms Hewitt also announced a new drive to help women who want to work in male dominated sectors, saying sexism at work was still preventing women reaching their full potential. Plans include funding for universities to help female science and engineering graduates find jobs and \"taster courses\" for men and women in non-traditional jobs. Women in full-time work earn 19% less than men, according to the Equal Opportunities Commission (EOC).\n",
    "\n",
    "The minister told delegates that getting rid of \"career sexism\" was vital to closing the gender pay gap.\n",
    "\n",
    "\"Career sexism limits opportunities for women of all ages and prevents them from achieving their full potential. \"It is simply wrong to assume someone cannot do a job on the grounds of their sex,\" she said. Earlier, she told BBC Radio 4's Today programme: \"What we are talking about here is the fact that about six out of 20 women work in jobs that are low-paid and typically dominated by women, so we have got very segregated employment. \"Unfortunately, in some cases, this reflects very old-fashioned and stereotypical ideas about the appropriate jobs for women, or indeed for men. \"Career sexism is about saying that engineering, for instance, where only 10% of employees are women, is really a male-dominated industry. Construction is even worse. \"But it is also about saying childcare jobs are really there for women and not suitable for men. Career sexism goes both ways.\"\n",
    "\n",
    "She added that while progress had been made, there was still a gap in pay figures. \"The average woman working full-time is being paid about 80p for every pound a man is earning. For women working part-time it is 60p.\" The Department for Trade and Industry will also provide funding to help a new pay experts panel run by the TUC.\n",
    "\n",
    "It has been set up to advise hundreds of companies on equal wage policies. Research conducted by the EOC last year revealed that many Britons believe the pay gap between men and women is the result of \"natural differences\" between the sexes. Women hold less than 10% of the top positions in FTSE 100 companies, the police, the judiciary and trade unions, according to their figures. And retired women have just over half the income of their male counterparts on average.\n",
    "\n",
    "\"\"\""
   ]
  },
  {
   "cell_type": "code",
   "execution_count": 125,
   "metadata": {},
   "outputs": [
    {
     "data": {
      "text/plain": [
       "'hewitt decri plan extend paid matern leav beyond six month promin labour elect manifesto trade industri secretari said patricia hewitt said cost propos evalu increasingli high prioriti share goal across govern Ms hewitt speak gender product seminar organis equal opportun commiss eoc mother current take six month paid leav six unpaid Ms hewitt told seminar clearli one thing need futur extend period payment matern leav beyond first six month second six month We look quickli obvious cost implic taxpay reimburs employ cost Ms hewitt also announc new drive help woman want work male domin sector say sexism work still prevent woman reach full potenti plan includ fund univers help femal scienc engin graduat find job taster cours men woman job women work earn le men accord equal opportun commiss eoc the minist told deleg get rid career sexism vital close gender pay gap career sexism limit opportun woman age prevent achiev full potenti It simpli wrong assum someon job ground sex said earlier told bbc radio today programm what talk fact six woman work job typic domin woman got segreg employ unfortun case reflect stereotyp idea appropri job woman inde men career sexism say engin instanc employe woman realli industri construct even wors but also say childcar job realli woman suitabl men career sexism go way she ad progress made still gap pay figur the averag woman work paid everi pound man earn for woman work the depart trade industri also provid fund help new pay expert panel run tuc It set advis hundr compani equal wage polici research conduct eoc last year reveal mani briton believ pay gap men woman result natur differ sex women hold le top posit ftse compani polic judiciari trade union accord figur and retir woman half incom male counterpart averag'"
      ]
     },
     "execution_count": 125,
     "metadata": {},
     "output_type": "execute_result"
    }
   ],
   "source": [
    "news_content_clean= [] \n",
    "news_content_clean.append(data_cleaning(news_content))\n",
    "news_content_clean[0]"
   ]
  },
  {
   "cell_type": "code",
   "execution_count": 126,
   "metadata": {
    "collapsed": true
   },
   "outputs": [],
   "source": [
    "tf_load_vec = joblib.load('tf_vectorizer.pkl')\n",
    "model = joblib.load('news_classification_system.pkl')"
   ]
  },
  {
   "cell_type": "code",
   "execution_count": 127,
   "metadata": {
    "collapsed": true
   },
   "outputs": [],
   "source": [
    "extract = tf_load_vec.transform(news_content_clean)"
   ]
  },
  {
   "cell_type": "code",
   "execution_count": 128,
   "metadata": {},
   "outputs": [
    {
     "data": {
      "text/plain": [
       "array(['politics'], dtype='<U13')"
      ]
     },
     "execution_count": 128,
     "metadata": {},
     "output_type": "execute_result"
    }
   ],
   "source": [
    "model.predict(extract)"
   ]
  },
  {
   "cell_type": "code",
   "execution_count": null,
   "metadata": {
    "collapsed": true
   },
   "outputs": [],
   "source": []
  },
  {
   "cell_type": "code",
   "execution_count": null,
   "metadata": {
    "collapsed": true
   },
   "outputs": [],
   "source": []
  }
 ],
 "metadata": {
  "kernelspec": {
   "display_name": "Python 3",
   "language": "python",
   "name": "python3"
  },
  "language_info": {
   "codemirror_mode": {
    "name": "ipython",
    "version": 3
   },
   "file_extension": ".py",
   "mimetype": "text/x-python",
   "name": "python",
   "nbconvert_exporter": "python",
   "pygments_lexer": "ipython3",
   "version": "3.6.3"
  }
 },
 "nbformat": 4,
 "nbformat_minor": 2
}
